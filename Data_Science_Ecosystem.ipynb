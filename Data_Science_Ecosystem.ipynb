{
 "cells": [
  {
   "cell_type": "markdown",
   "id": "95ae202d-73cb-4366-9fc6-7b0e592babf2",
   "metadata": {},
   "source": [
    "# Data Science Tools and Ecosystem"
   ]
  },
  {
   "cell_type": "markdown",
   "id": "25c9e552-e00d-4c6f-b25c-fba5bad23b3a",
   "metadata": {},
   "source": [
    "In this notebook, Data Scienece Tools And Ecosystem are Summarized."
   ]
  },
  {
   "cell_type": "markdown",
   "id": "90501ac1-040d-4491-a392-87bee5400768",
   "metadata": {},
   "source": [
    "The Popular Languages that Data Scientist Uses\n",
    "1.Python\n",
    "2.R\n",
    "3.C++\n",
    "4.Java"
   ]
  },
  {
   "cell_type": "markdown",
   "id": "548a4eba-af26-4988-ae52-c960f1390dd4",
   "metadata": {},
   "source": [
    "Common Libararies Used By Data Scientists\n",
    "1.Pandas\n",
    "2.Numpy\n",
    "3.Matplotlib\n",
    "4.Tenserflow\n",
    "5.Scipi"
   ]
  },
  {
   "cell_type": "markdown",
   "id": "31f3a3c5-0711-4821-b87b-cb1b6819540b",
   "metadata": {},
   "source": [
    "|Data Science Tools|\n",
    "|---|\n",
    "|SAS|\n",
    "|Apache Hadoop|\n",
    "|TenserFlow|"
   ]
  },
  {
   "cell_type": "markdown",
   "id": "5d4b45d1-3b67-4c10-91ce-4a9e7a2e176e",
   "metadata": {},
   "source": [
    "### Below are the few examples of arithmetic expressions in python"
   ]
  },
  {
   "cell_type": "code",
   "execution_count": 2,
   "id": "94ac9a6d-dcab-4229-8058-c9d1a165e4e0",
   "metadata": {},
   "outputs": [
    {
     "data": {
      "text/plain": [
       "19"
      ]
     },
     "execution_count": 2,
     "metadata": {},
     "output_type": "execute_result"
    }
   ],
   "source": [
    "# This common expression which multiply and then add integers \n",
    "(3*4)+7"
   ]
  },
  {
   "cell_type": "code",
   "execution_count": 3,
   "id": "c58a5c34-8f5d-4b5e-95db-925f4551c066",
   "metadata": {},
   "outputs": [
    {
     "data": {
      "text/plain": [
       "3.3333333333333335"
      ]
     },
     "execution_count": 3,
     "metadata": {},
     "output_type": "execute_result"
    }
   ],
   "source": [
    "# This will convert 200 minutes in hour\n",
    "200/60"
   ]
  },
  {
   "cell_type": "markdown",
   "id": "93b61670-3fb3-4c80-ac59-c0c8d536aac3",
   "metadata": {},
   "source": [
    "__Objectives__\n",
    "\n",
    "* List Popular Language of Data Science\n",
    "* List Popular Libareries Of Data Sicence\n",
    "* List Well Known Data Science Tools\n",
    "* How to provide Comments in Shell"
   ]
  },
  {
   "cell_type": "markdown",
   "id": "4ed1e8f4-54b0-45f4-9830-8aca3eefaf1a",
   "metadata": {},
   "source": [
    "## Author\n",
    "Rajat Singh"
   ]
  },
  {
   "cell_type": "code",
   "execution_count": null,
   "id": "bb62e8ff-e261-4502-9b65-567b59ee51f4",
   "metadata": {},
   "outputs": [],
   "source": []
  }
 ],
 "metadata": {
  "kernelspec": {
   "display_name": "Python 3 (ipykernel)",
   "language": "python",
   "name": "python3"
  },
  "language_info": {
   "codemirror_mode": {
    "name": "ipython",
    "version": 3
   },
   "file_extension": ".py",
   "mimetype": "text/x-python",
   "name": "python",
   "nbconvert_exporter": "python",
   "pygments_lexer": "ipython3",
   "version": "3.13.5"
  }
 },
 "nbformat": 4,
 "nbformat_minor": 5
}
